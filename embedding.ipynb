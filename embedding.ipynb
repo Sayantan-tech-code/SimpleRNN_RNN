{
 "cells": [
  {
   "cell_type": "code",
   "execution_count": 1,
   "metadata": {},
   "outputs": [
    {
     "name": "stderr",
     "output_type": "stream",
     "text": [
      "2025-04-15 15:24:35.003574: I tensorflow/core/util/port.cc:113] oneDNN custom operations are on. You may see slightly different numerical results due to floating-point round-off errors from different computation orders. To turn them off, set the environment variable `TF_ENABLE_ONEDNN_OPTS=0`.\n",
      "2025-04-15 15:24:35.017197: I external/local_tsl/tsl/cuda/cudart_stub.cc:32] Could not find cuda drivers on your machine, GPU will not be used.\n",
      "2025-04-15 15:24:35.102581: I external/local_tsl/tsl/cuda/cudart_stub.cc:32] Could not find cuda drivers on your machine, GPU will not be used.\n",
      "2025-04-15 15:24:35.211715: E external/local_xla/xla/stream_executor/cuda/cuda_fft.cc:479] Unable to register cuFFT factory: Attempting to register factory for plugin cuFFT when one has already been registered\n",
      "2025-04-15 15:24:35.341392: E external/local_xla/xla/stream_executor/cuda/cuda_dnn.cc:10575] Unable to register cuDNN factory: Attempting to register factory for plugin cuDNN when one has already been registered\n",
      "2025-04-15 15:24:35.342378: E external/local_xla/xla/stream_executor/cuda/cuda_blas.cc:1442] Unable to register cuBLAS factory: Attempting to register factory for plugin cuBLAS when one has already been registered\n",
      "2025-04-15 15:24:35.508558: I tensorflow/core/platform/cpu_feature_guard.cc:210] This TensorFlow binary is optimized to use available CPU instructions in performance-critical operations.\n",
      "To enable the following instructions: AVX2 AVX_VNNI FMA, in other operations, rebuild TensorFlow with the appropriate compiler flags.\n",
      "2025-04-15 15:25:00.294651: W tensorflow/compiler/tf2tensorrt/utils/py_utils.cc:38] TF-TRT Warning: Could not find TensorRT\n"
     ]
    }
   ],
   "source": [
    "from tensorflow.keras.preprocessing.text import one_hot"
   ]
  },
  {
   "cell_type": "code",
   "execution_count": 2,
   "metadata": {},
   "outputs": [],
   "source": [
    "### sentences\n",
    "sent=[  'the glass of milk',\n",
    "     'the glass of juice',\n",
    "     'the cup of tea',\n",
    "    'I am a good boy',\n",
    "     'I am a good developer',\n",
    "     'understand the meaning of words',\n",
    "     'your videos are good',]"
   ]
  },
  {
   "cell_type": "code",
   "execution_count": 3,
   "metadata": {},
   "outputs": [
    {
     "data": {
      "text/plain": [
       "['the glass of milk',\n",
       " 'the glass of juice',\n",
       " 'the cup of tea',\n",
       " 'I am a good boy',\n",
       " 'I am a good developer',\n",
       " 'understand the meaning of words',\n",
       " 'your videos are good']"
      ]
     },
     "execution_count": 3,
     "metadata": {},
     "output_type": "execute_result"
    }
   ],
   "source": [
    "sent"
   ]
  },
  {
   "cell_type": "code",
   "execution_count": 4,
   "metadata": {},
   "outputs": [],
   "source": [
    "## Define the vocabulary size\n",
    "voc_size=10000"
   ]
  },
  {
   "cell_type": "code",
   "execution_count": 5,
   "metadata": {},
   "outputs": [
    {
     "data": {
      "text/plain": [
       "['the glass of milk',\n",
       " 'the glass of juice',\n",
       " 'the cup of tea',\n",
       " 'I am a good boy',\n",
       " 'I am a good developer',\n",
       " 'understand the meaning of words',\n",
       " 'your videos are good']"
      ]
     },
     "execution_count": 5,
     "metadata": {},
     "output_type": "execute_result"
    }
   ],
   "source": [
    "sent"
   ]
  },
  {
   "cell_type": "code",
   "execution_count": 6,
   "metadata": {},
   "outputs": [
    {
     "data": {
      "text/plain": [
       "[[5506, 1210, 7393, 5071],\n",
       " [5506, 1210, 7393, 6871],\n",
       " [5506, 4494, 7393, 1754],\n",
       " [2354, 7906, 6888, 6313, 7757],\n",
       " [2354, 7906, 6888, 6313, 7667],\n",
       " [4634, 5506, 2867, 7393, 4042],\n",
       " [8666, 6287, 6266, 6313]]"
      ]
     },
     "execution_count": 6,
     "metadata": {},
     "output_type": "execute_result"
    }
   ],
   "source": [
    "### One Hot Representation\n",
    "\n",
    "one_hot_repr = [one_hot(words, voc_size) for words in sent]\n",
    "\n",
    "one_hot_repr\n"
   ]
  },
  {
   "cell_type": "code",
   "execution_count": 7,
   "metadata": {},
   "outputs": [],
   "source": [
    "## word Embedding Representation\n",
    "\n",
    "from tensorflow.keras.layers import Embedding\n",
    "#from tensorflow.keras.processing.sequence import pad_sequences\n",
    "from tensorflow.keras.utils import pad_sequences\n",
    "from tensorflow.keras.models import Sequential"
   ]
  },
  {
   "cell_type": "code",
   "execution_count": 8,
   "metadata": {},
   "outputs": [],
   "source": [
    "import numpy as np"
   ]
  },
  {
   "cell_type": "code",
   "execution_count": 9,
   "metadata": {},
   "outputs": [
    {
     "data": {
      "image/png": "[encoded data removed]",
      "text/plain": [
       "<Figure size 640x480 with 1 Axes>"
      ]
     },
     "metadata": {},
     "output_type": "display_data"
    }
   ],
   "source": [
    "lengths = [len(seq) for seq in one_hot_repr]\n",
    "import matplotlib.pyplot as plt\n",
    "plt.hist(lengths, bins=20)\n",
    "plt.show()\n"
   ]
  },
  {
   "cell_type": "code",
   "execution_count": 10,
   "metadata": {},
   "outputs": [
    {
     "name": "stdout",
     "output_type": "stream",
     "text": [
      "[[   0    0    0    0 5506 1210 7393 5071]\n",
      " [   0    0    0    0 5506 1210 7393 6871]\n",
      " [   0    0    0    0 5506 4494 7393 1754]\n",
      " [   0    0    0 2354 7906 6888 6313 7757]\n",
      " [   0    0    0 2354 7906 6888 6313 7667]\n",
      " [   0    0    0 4634 5506 2867 7393 4042]\n",
      " [   0    0    0    0 8666 6287 6266 6313]]\n"
     ]
    }
   ],
   "source": [
    "sent_length=8\n",
    "\n",
    "##padding the encoded datas with pre '0's\n",
    "embedded_docs=pad_sequences(one_hot_repr,padding='pre',maxlen=sent_length)\n",
    "print(embedded_docs)"
   ]
  },
  {
   "cell_type": "code",
   "execution_count": 11,
   "metadata": {},
   "outputs": [],
   "source": [
    "## feature representation\n",
    "\n",
    "###\n",
    "# After you have your padded sequences (which are just sequences of integers), you usually pass them through an embedding layer before feeding into your RNN / LSTM / GRU models.\n",
    "\n",
    "#The embedding layer converts each integer (word index) into a dense vector of fixed size.\n",
    "\n",
    "#✅ So if:\n",
    "\n",
    "#You have dim = 10\n",
    "\n",
    "#Each word will be represented as a dense vector of size 10.\n",
    "###\n",
    "#\n",
    "#-----------------------------------------------------------------------------------------------------------------------------------------------------------------------------------------------------\n",
    "#Why do we need this?\n",
    "#Instead of using sparse or one-hot vectors (which are big and inefficient), embedding layers\n",
    "#------------------------------------------------------------------------------------------------------------------------------------------------------------------------------------------------------\n",
    "\n",
    "#So, what does dim = 10 mean?\n",
    "#It means:\n",
    "\n",
    "#\"I want to represent each word as a dense vector of length 10.\"\n",
    "\n",
    "#How to choose dim?\n",
    "#There’s no fixed rule, but here are some guidelines:\n",
    "\n",
    "#Vocabulary Size\tRecommended dim\n",
    "#Small (~1k words)\t8–32\n",
    "#Medium (~10k words)\t50–100\n",
    "#Large (~100k words)\t200–300 (like pretrained GloVe / Word2Vec models)\n",
    "#For simple tasks, dim = 10 is a reasonable starting point.\n",
    "\n",
    "#If you're just learning or experimenting, it’s fine!\n",
    "\n",
    "\n",
    "\n",
    "\n",
    "\n",
    "dim=10"
   ]
  },
  {
   "cell_type": "markdown",
   "metadata": {},
   "source": [
    "Build the model"
   ]
  },
  {
   "cell_type": "code",
   "execution_count": 12,
   "metadata": {},
   "outputs": [
    {
     "name": "stderr",
     "output_type": "stream",
     "text": [
      "/home/kpit/Documents/GenerativeAI/simple_rnn_imdb/venv/lib/python3.11/site-packages/keras/src/layers/core/embedding.py:90: UserWarning: Argument `input_length` is deprecated. Just remove it.\n",
      "  warnings.warn(\n"
     ]
    }
   ],
   "source": [
    "#This means:\n",
    "\n",
    "#\"I am creating a simple linear stack of layers.\"\n",
    "\n",
    "#In Keras, Sequential means you’ll add layers one after the other, like stacking blocks.\n",
    "model=Sequential()\n",
    "\n",
    "#\"For each word index in the input sequence, map it to a learned dense vector of size dim.\"\n",
    "model.add(Embedding(voc_size,dim,input_length=sent_length))\n",
    "\n",
    "#Optimizer: 'adam'\n",
    "\n",
    "#✅ Adam is a great, fast, and adaptive optimizer.\n",
    "\n",
    "#✅ Combines benefits of AdaGrad and RMSProp.\n",
    "\n",
    "#Loss function: 'mse' = Mean Squared Error\n",
    "\n",
    "#This is usually used for regression tasks.\n",
    "\n",
    "#MSE means:\n",
    "\n",
    "#\"Minimize the square of the difference between predicted and actual values.\"\n",
    "model.compile('adam','mse')"
   ]
  },
  {
   "cell_type": "code",
   "execution_count": 13,
   "metadata": {},
   "outputs": [
    {
     "data": {
      "text/html": [
       "<pre style=\"white-space:pre;overflow-x:auto;line-height:normal;font-family:Menlo,'DejaVu Sans Mono',consolas,'Courier New',monospace\"><span style=\"font-weight: bold\">Model: \"sequential\"</span>\n",
       "</pre>\n"
      ],
      "text/plain": [
       "\u001b[1mModel: \"sequential\"\u001b[0m\n"
      ]
     },
     "metadata": {},
     "output_type": "display_data"
    },
    {
     "data": {
      "text/html": [
       "<pre style=\"white-space:pre;overflow-x:auto;line-height:normal;font-family:Menlo,'DejaVu Sans Mono',consolas,'Courier New',monospace\">┏━━━━━━━━━━━━━━━━━━━━━━━━━━━━━━━━━┳━━━━━━━━━━━━━━━━━━━━━━━━┳━━━━━━━━━━━━━━━┓\n",
       "┃<span style=\"font-weight: bold\"> Layer (type)                    </span>┃<span style=\"font-weight: bold\"> Output Shape           </span>┃<span style=\"font-weight: bold\">       Param # </span>┃\n",
       "┡━━━━━━━━━━━━━━━━━━━━━━━━━━━━━━━━━╇━━━━━━━━━━━━━━━━━━━━━━━━╇━━━━━━━━━━━━━━━┩\n",
       "│ embedding (<span style=\"color: #0087ff; text-decoration-color: #0087ff\">Embedding</span>)           │ ?                      │   <span style=\"color: #00af00; text-decoration-color: #00af00\">0</span> (unbuilt) │\n",
       "└─────────────────────────────────┴────────────────────────┴───────────────┘\n",
       "</pre>\n"
      ],
      "text/plain": [
       "┏━━━━━━━━━━━━━━━━━━━━━━━━━━━━━━━━━┳━━━━━━━━━━━━━━━━━━━━━━━━┳━━━━━━━━━━━━━━━┓\n",
       "┃\u001b[1m \u001b[0m\u001b[1mLayer (type)                   \u001b[0m\u001b[1m \u001b[0m┃\u001b[1m \u001b[0m\u001b[1mOutput Shape          \u001b[0m\u001b[1m \u001b[0m┃\u001b[1m \u001b[0m\u001b[1m      Param #\u001b[0m\u001b[1m \u001b[0m┃\n",
       "┡━━━━━━━━━━━━━━━━━━━━━━━━━━━━━━━━━╇━━━━━━━━━━━━━━━━━━━━━━━━╇━━━━━━━━━━━━━━━┩\n",
       "│ embedding (\u001b[38;5;33mEmbedding\u001b[0m)           │ ?                      │   \u001b[38;5;34m0\u001b[0m (unbuilt) │\n",
       "└─────────────────────────────────┴────────────────────────┴───────────────┘\n"
      ]
     },
     "metadata": {},
     "output_type": "display_data"
    },
    {
     "data": {
      "text/html": [
       "<pre style=\"white-space:pre;overflow-x:auto;line-height:normal;font-family:Menlo,'DejaVu Sans Mono',consolas,'Courier New',monospace\"><span style=\"font-weight: bold\"> Total params: </span><span style=\"color: #00af00; text-decoration-color: #00af00\">0</span> (0.00 B)\n",
       "</pre>\n"
      ],
      "text/plain": [
       "\u001b[1m Total params: \u001b[0m\u001b[38;5;34m0\u001b[0m (0.00 B)\n"
      ]
     },
     "metadata": {},
     "output_type": "display_data"
    },
    {
     "data": {
      "text/html": [
       "<pre style=\"white-space:pre;overflow-x:auto;line-height:normal;font-family:Menlo,'DejaVu Sans Mono',consolas,'Courier New',monospace\"><span style=\"font-weight: bold\"> Trainable params: </span><span style=\"color: #00af00; text-decoration-color: #00af00\">0</span> (0.00 B)\n",
       "</pre>\n"
      ],
      "text/plain": [
       "\u001b[1m Trainable params: \u001b[0m\u001b[38;5;34m0\u001b[0m (0.00 B)\n"
      ]
     },
     "metadata": {},
     "output_type": "display_data"
    },
    {
     "data": {
      "text/html": [
       "<pre style=\"white-space:pre;overflow-x:auto;line-height:normal;font-family:Menlo,'DejaVu Sans Mono',consolas,'Courier New',monospace\"><span style=\"font-weight: bold\"> Non-trainable params: </span><span style=\"color: #00af00; text-decoration-color: #00af00\">0</span> (0.00 B)\n",
       "</pre>\n"
      ],
      "text/plain": [
       "\u001b[1m Non-trainable params: \u001b[0m\u001b[38;5;34m0\u001b[0m (0.00 B)\n"
      ]
     },
     "metadata": {},
     "output_type": "display_data"
    }
   ],
   "source": [
    "model.summary()"
   ]
  },
  {
   "cell_type": "code",
   "execution_count": 14,
   "metadata": {},
   "outputs": [
    {
     "name": "stdout",
     "output_type": "stream",
     "text": [
      "\u001b[1m1/1\u001b[0m \u001b[32m━━━━━━━━━━━━━━━━━━━━\u001b[0m\u001b[37m\u001b[0m \u001b[1m0s\u001b[0m 415ms/step\n"
     ]
    },
    {
     "data": {
      "text/plain": [
       "array([[[-0.01390476, -0.0338629 , -0.04227588,  0.02402918,\n",
       "          0.03619638,  0.01297566,  0.02530548,  0.03629097,\n",
       "          0.04304706, -0.03408343],\n",
       "        [-0.01390476, -0.0338629 , -0.04227588,  0.02402918,\n",
       "          0.03619638,  0.01297566,  0.02530548,  0.03629097,\n",
       "          0.04304706, -0.03408343],\n",
       "        [-0.01390476, -0.0338629 , -0.04227588,  0.02402918,\n",
       "          0.03619638,  0.01297566,  0.02530548,  0.03629097,\n",
       "          0.04304706, -0.03408343],\n",
       "        [-0.01390476, -0.0338629 , -0.04227588,  0.02402918,\n",
       "          0.03619638,  0.01297566,  0.02530548,  0.03629097,\n",
       "          0.04304706, -0.03408343],\n",
       "        [ 0.03009273, -0.02718265, -0.03851255, -0.02175012,\n",
       "          0.02430664,  0.02420321, -0.01907006,  0.00114978,\n",
       "          0.01193244,  0.02303514],\n",
       "        [ 0.01478065, -0.02461132,  0.04039134, -0.0369468 ,\n",
       "         -0.01155674,  0.04460367, -0.00843411, -0.03731682,\n",
       "         -0.01569642,  0.01293914],\n",
       "        [ 0.00246737, -0.01671193, -0.04374204,  0.01994623,\n",
       "          0.03455714,  0.01970508,  0.02434707, -0.04001967,\n",
       "          0.03626068,  0.04073973],\n",
       "        [ 0.02198238, -0.04318148,  0.01431674,  0.04583371,\n",
       "          0.04020408,  0.02935997, -0.01448255,  0.04944095,\n",
       "          0.00255474, -0.04041054]],\n",
       "\n",
       "       [[-0.01390476, -0.0338629 , -0.04227588,  0.02402918,\n",
       "          0.03619638,  0.01297566,  0.02530548,  0.03629097,\n",
       "          0.04304706, -0.03408343],\n",
       "        [-0.01390476, -0.0338629 , -0.04227588,  0.02402918,\n",
       "          0.03619638,  0.01297566,  0.02530548,  0.03629097,\n",
       "          0.04304706, -0.03408343],\n",
       "        [-0.01390476, -0.0338629 , -0.04227588,  0.02402918,\n",
       "          0.03619638,  0.01297566,  0.02530548,  0.03629097,\n",
       "          0.04304706, -0.03408343],\n",
       "        [-0.01390476, -0.0338629 , -0.04227588,  0.02402918,\n",
       "          0.03619638,  0.01297566,  0.02530548,  0.03629097,\n",
       "          0.04304706, -0.03408343],\n",
       "        [ 0.03009273, -0.02718265, -0.03851255, -0.02175012,\n",
       "          0.02430664,  0.02420321, -0.01907006,  0.00114978,\n",
       "          0.01193244,  0.02303514],\n",
       "        [ 0.01478065, -0.02461132,  0.04039134, -0.0369468 ,\n",
       "         -0.01155674,  0.04460367, -0.00843411, -0.03731682,\n",
       "         -0.01569642,  0.01293914],\n",
       "        [ 0.00246737, -0.01671193, -0.04374204,  0.01994623,\n",
       "          0.03455714,  0.01970508,  0.02434707, -0.04001967,\n",
       "          0.03626068,  0.04073973],\n",
       "        [-0.04030049,  0.02660723, -0.04868971,  0.01223698,\n",
       "          0.01402326, -0.00327246,  0.00934089, -0.00586348,\n",
       "         -0.03232799,  0.03183662]],\n",
       "\n",
       "       [[-0.01390476, -0.0338629 , -0.04227588,  0.02402918,\n",
       "          0.03619638,  0.01297566,  0.02530548,  0.03629097,\n",
       "          0.04304706, -0.03408343],\n",
       "        [-0.01390476, -0.0338629 , -0.04227588,  0.02402918,\n",
       "          0.03619638,  0.01297566,  0.02530548,  0.03629097,\n",
       "          0.04304706, -0.03408343],\n",
       "        [-0.01390476, -0.0338629 , -0.04227588,  0.02402918,\n",
       "          0.03619638,  0.01297566,  0.02530548,  0.03629097,\n",
       "          0.04304706, -0.03408343],\n",
       "        [-0.01390476, -0.0338629 , -0.04227588,  0.02402918,\n",
       "          0.03619638,  0.01297566,  0.02530548,  0.03629097,\n",
       "          0.04304706, -0.03408343],\n",
       "        [ 0.03009273, -0.02718265, -0.03851255, -0.02175012,\n",
       "          0.02430664,  0.02420321, -0.01907006,  0.00114978,\n",
       "          0.01193244,  0.02303514],\n",
       "        [-0.03671385,  0.02896315,  0.04604864,  0.01933949,\n",
       "          0.01812943,  0.0445361 ,  0.03145314, -0.01833311,\n",
       "         -0.02068503,  0.04472854],\n",
       "        [ 0.00246737, -0.01671193, -0.04374204,  0.01994623,\n",
       "          0.03455714,  0.01970508,  0.02434707, -0.04001967,\n",
       "          0.03626068,  0.04073973],\n",
       "        [ 0.04205899, -0.01669829,  0.01368529,  0.0312818 ,\n",
       "          0.02469299,  0.01274606,  0.0261294 , -0.04285957,\n",
       "          0.04891873, -0.0022228 ]],\n",
       "\n",
       "       [[-0.01390476, -0.0338629 , -0.04227588,  0.02402918,\n",
       "          0.03619638,  0.01297566,  0.02530548,  0.03629097,\n",
       "          0.04304706, -0.03408343],\n",
       "        [-0.01390476, -0.0338629 , -0.04227588,  0.02402918,\n",
       "          0.03619638,  0.01297566,  0.02530548,  0.03629097,\n",
       "          0.04304706, -0.03408343],\n",
       "        [-0.01390476, -0.0338629 , -0.04227588,  0.02402918,\n",
       "          0.03619638,  0.01297566,  0.02530548,  0.03629097,\n",
       "          0.04304706, -0.03408343],\n",
       "        [ 0.02248228, -0.03194773, -0.04412116,  0.02906208,\n",
       "         -0.03169648, -0.01458989,  0.00399749, -0.00892068,\n",
       "         -0.0197073 , -0.03228592],\n",
       "        [ 0.04606361, -0.00406998, -0.0342643 , -0.03561294,\n",
       "          0.02926118, -0.03809868, -0.00716063,  0.00932139,\n",
       "         -0.03141005,  0.00095569],\n",
       "        [ 0.03234323, -0.04913197, -0.01553692,  0.02369815,\n",
       "         -0.02616267, -0.0003353 ,  0.04216767, -0.01444864,\n",
       "          0.04716593, -0.03350928],\n",
       "        [ 0.03196038,  0.00483511,  0.04629472, -0.03163897,\n",
       "          0.04556967,  0.00673198, -0.03780324, -0.01390208,\n",
       "         -0.00212871, -0.02120053],\n",
       "        [-0.01737694,  0.0248044 ,  0.01107602, -0.01955758,\n",
       "         -0.02919301,  0.04056886, -0.00970384,  0.02384924,\n",
       "         -0.02248153, -0.02063336]],\n",
       "\n",
       "       [[-0.01390476, -0.0338629 , -0.04227588,  0.02402918,\n",
       "          0.03619638,  0.01297566,  0.02530548,  0.03629097,\n",
       "          0.04304706, -0.03408343],\n",
       "        [-0.01390476, -0.0338629 , -0.04227588,  0.02402918,\n",
       "          0.03619638,  0.01297566,  0.02530548,  0.03629097,\n",
       "          0.04304706, -0.03408343],\n",
       "        [-0.01390476, -0.0338629 , -0.04227588,  0.02402918,\n",
       "          0.03619638,  0.01297566,  0.02530548,  0.03629097,\n",
       "          0.04304706, -0.03408343],\n",
       "        [ 0.02248228, -0.03194773, -0.04412116,  0.02906208,\n",
       "         -0.03169648, -0.01458989,  0.00399749, -0.00892068,\n",
       "         -0.0197073 , -0.03228592],\n",
       "        [ 0.04606361, -0.00406998, -0.0342643 , -0.03561294,\n",
       "          0.02926118, -0.03809868, -0.00716063,  0.00932139,\n",
       "         -0.03141005,  0.00095569],\n",
       "        [ 0.03234323, -0.04913197, -0.01553692,  0.02369815,\n",
       "         -0.02616267, -0.0003353 ,  0.04216767, -0.01444864,\n",
       "          0.04716593, -0.03350928],\n",
       "        [ 0.03196038,  0.00483511,  0.04629472, -0.03163897,\n",
       "          0.04556967,  0.00673198, -0.03780324, -0.01390208,\n",
       "         -0.00212871, -0.02120053],\n",
       "        [-0.02828126,  0.02545378, -0.00149066,  0.03512709,\n",
       "          0.04390451,  0.01781516,  0.01550852,  0.04403652,\n",
       "         -0.0099228 ,  0.0079729 ]],\n",
       "\n",
       "       [[-0.01390476, -0.0338629 , -0.04227588,  0.02402918,\n",
       "          0.03619638,  0.01297566,  0.02530548,  0.03629097,\n",
       "          0.04304706, -0.03408343],\n",
       "        [-0.01390476, -0.0338629 , -0.04227588,  0.02402918,\n",
       "          0.03619638,  0.01297566,  0.02530548,  0.03629097,\n",
       "          0.04304706, -0.03408343],\n",
       "        [-0.01390476, -0.0338629 , -0.04227588,  0.02402918,\n",
       "          0.03619638,  0.01297566,  0.02530548,  0.03629097,\n",
       "          0.04304706, -0.03408343],\n",
       "        [-0.01680649,  0.0399864 ,  0.0015252 , -0.02519128,\n",
       "         -0.02736361, -0.01190326, -0.02120163, -0.02648062,\n",
       "          0.02250757, -0.04701567],\n",
       "        [ 0.03009273, -0.02718265, -0.03851255, -0.02175012,\n",
       "          0.02430664,  0.02420321, -0.01907006,  0.00114978,\n",
       "          0.01193244,  0.02303514],\n",
       "        [ 0.04366605,  0.0257004 ,  0.02293607, -0.0018134 ,\n",
       "         -0.04894667,  0.03264643,  0.02706999,  0.00809816,\n",
       "         -0.03952228,  0.03384217],\n",
       "        [ 0.00246737, -0.01671193, -0.04374204,  0.01994623,\n",
       "          0.03455714,  0.01970508,  0.02434707, -0.04001967,\n",
       "          0.03626068,  0.04073973],\n",
       "        [-0.0090981 ,  0.03541008, -0.02347436,  0.01300276,\n",
       "         -0.032908  , -0.03525561,  0.01166694,  0.03600398,\n",
       "         -0.02897569,  0.04999063]],\n",
       "\n",
       "       [[-0.01390476, -0.0338629 , -0.04227588,  0.02402918,\n",
       "          0.03619638,  0.01297566,  0.02530548,  0.03629097,\n",
       "          0.04304706, -0.03408343],\n",
       "        [-0.01390476, -0.0338629 , -0.04227588,  0.02402918,\n",
       "          0.03619638,  0.01297566,  0.02530548,  0.03629097,\n",
       "          0.04304706, -0.03408343],\n",
       "        [-0.01390476, -0.0338629 , -0.04227588,  0.02402918,\n",
       "          0.03619638,  0.01297566,  0.02530548,  0.03629097,\n",
       "          0.04304706, -0.03408343],\n",
       "        [-0.01390476, -0.0338629 , -0.04227588,  0.02402918,\n",
       "          0.03619638,  0.01297566,  0.02530548,  0.03629097,\n",
       "          0.04304706, -0.03408343],\n",
       "        [ 0.03816216,  0.01720717, -0.00511121,  0.03780904,\n",
       "          0.00666334, -0.01843635, -0.03015075, -0.03606349,\n",
       "          0.00673903, -0.00710293],\n",
       "        [ 0.02627677, -0.01730895,  0.02179259, -0.04561594,\n",
       "         -0.02079498, -0.02164522,  0.01043011,  0.0354596 ,\n",
       "         -0.01840286,  0.02524141],\n",
       "        [ 0.02672156, -0.04393219, -0.00250232,  0.03173066,\n",
       "          0.00956669, -0.03364422, -0.03422545, -0.02199123,\n",
       "         -0.03043601,  0.03652996],\n",
       "        [ 0.03196038,  0.00483511,  0.04629472, -0.03163897,\n",
       "          0.04556967,  0.00673198, -0.03780324, -0.01390208,\n",
       "         -0.00212871, -0.02120053]]], dtype=float32)"
      ]
     },
     "execution_count": 14,
     "metadata": {},
     "output_type": "execute_result"
    }
   ],
   "source": [
    "model.predict(embedded_docs)"
   ]
  },
  {
   "cell_type": "code",
   "execution_count": 15,
   "metadata": {},
   "outputs": [
    {
     "data": {
      "text/plain": [
       "array([   0,    0,    0,    0, 5506, 1210, 7393, 5071], dtype=int32)"
      ]
     },
     "execution_count": 15,
     "metadata": {},
     "output_type": "execute_result"
    }
   ],
   "source": [
    "embedded_docs[0]"
   ]
  },
  {
   "cell_type": "code",
   "execution_count": 17,
   "metadata": {},
   "outputs": [
    {
     "name": "stdout",
     "output_type": "stream",
     "text": [
      "\u001b[1m1/1\u001b[0m \u001b[32m━━━━━━━━━━━━━━━━━━━━\u001b[0m\u001b[37m\u001b[0m \u001b[1m0s\u001b[0m 198ms/step\n"
     ]
    },
    {
     "data": {
      "text/plain": [
       "array([[[-0.01390476, -0.0338629 , -0.04227588,  0.02402918,\n",
       "          0.03619638,  0.01297566,  0.02530548,  0.03629097,\n",
       "          0.04304706, -0.03408343],\n",
       "        [-0.01390476, -0.0338629 , -0.04227588,  0.02402918,\n",
       "          0.03619638,  0.01297566,  0.02530548,  0.03629097,\n",
       "          0.04304706, -0.03408343],\n",
       "        [-0.01390476, -0.0338629 , -0.04227588,  0.02402918,\n",
       "          0.03619638,  0.01297566,  0.02530548,  0.03629097,\n",
       "          0.04304706, -0.03408343],\n",
       "        [-0.01390476, -0.0338629 , -0.04227588,  0.02402918,\n",
       "          0.03619638,  0.01297566,  0.02530548,  0.03629097,\n",
       "          0.04304706, -0.03408343],\n",
       "        [ 0.03009273, -0.02718265, -0.03851255, -0.02175012,\n",
       "          0.02430664,  0.02420321, -0.01907006,  0.00114978,\n",
       "          0.01193244,  0.02303514],\n",
       "        [ 0.01478065, -0.02461132,  0.04039134, -0.0369468 ,\n",
       "         -0.01155674,  0.04460367, -0.00843411, -0.03731682,\n",
       "         -0.01569642,  0.01293914],\n",
       "        [ 0.00246737, -0.01671193, -0.04374204,  0.01994623,\n",
       "          0.03455714,  0.01970508,  0.02434707, -0.04001967,\n",
       "          0.03626068,  0.04073973],\n",
       "        [ 0.02198238, -0.04318148,  0.01431674,  0.04583371,\n",
       "          0.04020408,  0.02935997, -0.01448255,  0.04944095,\n",
       "          0.00255474, -0.04041054]]], dtype=float32)"
      ]
     },
     "execution_count": 17,
     "metadata": {},
     "output_type": "execute_result"
    }
   ],
   "source": [
    "import numpy as np\n",
    "\n",
    "# assuming embedded_docs[0] is a single sequence like shape (100,)\n",
    "model.predict(np.expand_dims(embedded_docs[0], axis=0))\n"
   ]
  },
  {
   "cell_type": "code",
   "execution_count": null,
   "metadata": {},
   "outputs": [],
   "source": []
  }
 ],
 "metadata": {
  "kernelspec": {
   "display_name": "Python 3",
   "language": "python",
   "name": "python3"
  },
  "language_info": {
   "codemirror_mode": {
    "name": "ipython",
    "version": 3
   },
   "file_extension": ".py",
   "mimetype": "text/x-python",
   "name": "python",
   "nbconvert_exporter": "python",
   "pygments_lexer": "ipython3",
   "version": "3.11.11"
  }
 },
 "nbformat": 4,
 "nbformat_minor": 2
}
