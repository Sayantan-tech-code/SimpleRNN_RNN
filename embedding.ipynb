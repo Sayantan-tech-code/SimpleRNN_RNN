{
 "cells": [
  {
   "cell_type": "code",
   "execution_count": 12,
   "metadata": {},
   "outputs": [],
   "source": [
    "from tensorflow.keras.preprocessing.text import one_hot"
   ]
  },
  {
   "cell_type": "code",
   "execution_count": 13,
   "metadata": {},
   "outputs": [],
   "source": [
    "### sentences\n",
    "sent=[  'the glass of milk',\n",
    "     'the glass of juice',\n",
    "     'the cup of tea',\n",
    "    'I am a good boy',\n",
    "     'I am a good developer',\n",
    "     'understand the meaning of words',\n",
    "     'your videos are good',]"
   ]
  },
  {
   "cell_type": "code",
   "execution_count": 14,
   "metadata": {},
   "outputs": [
    {
     "data": {
      "text/plain": [
       "['the glass of milk',\n",
       " 'the glass of juice',\n",
       " 'the cup of tea',\n",
       " 'I am a good boy',\n",
       " 'I am a good developer',\n",
       " 'understand the meaning of words',\n",
       " 'your videos are good']"
      ]
     },
     "execution_count": 14,
     "metadata": {},
     "output_type": "execute_result"
    }
   ],
   "source": [
    "sent"
   ]
  },
  {
   "cell_type": "code",
   "execution_count": 15,
   "metadata": {},
   "outputs": [],
   "source": [
    "## Define the vocabulary size\n",
    "voc_size=10000"
   ]
  },
  {
   "cell_type": "code",
   "execution_count": 16,
   "metadata": {},
   "outputs": [
    {
     "data": {
      "text/plain": [
       "['the glass of milk',\n",
       " 'the glass of juice',\n",
       " 'the cup of tea',\n",
       " 'I am a good boy',\n",
       " 'I am a good developer',\n",
       " 'understand the meaning of words',\n",
       " 'your videos are good']"
      ]
     },
     "execution_count": 16,
     "metadata": {},
     "output_type": "execute_result"
    }
   ],
   "source": [
    "sent"
   ]
  },
  {
   "cell_type": "code",
   "execution_count": 17,
   "metadata": {},
   "outputs": [
    {
     "data": {
      "text/plain": [
       "[[4921, 9847, 8714, 221],\n",
       " [4921, 9847, 8714, 177],\n",
       " [4921, 6319, 8714, 4687],\n",
       " [5796, 854, 4095, 6723, 5592],\n",
       " [5796, 854, 4095, 6723, 7171],\n",
       " [6832, 4921, 2168, 8714, 8290],\n",
       " [706, 7028, 3560, 6723]]"
      ]
     },
     "execution_count": 17,
     "metadata": {},
     "output_type": "execute_result"
    }
   ],
   "source": [
    "### One Hot Representation\n",
    "\n",
    "one_hot_repr = [one_hot(words, voc_size) for words in sent]\n",
    "\n",
    "one_hot_repr\n"
   ]
  },
  {
   "cell_type": "code",
   "execution_count": 18,
   "metadata": {},
   "outputs": [],
   "source": [
    "## word Embedding Representation\n",
    "\n",
    "from tensorflow.keras.layers import Embedding\n",
    "#from tensorflow.keras.processing.sequence import pad_sequences\n",
    "from tensorflow.keras.utils import pad_sequences\n",
    "from tensorflow.keras.models import Sequential"
   ]
  },
  {
   "cell_type": "code",
   "execution_count": 19,
   "metadata": {},
   "outputs": [],
   "source": [
    "import numpy as np"
   ]
  },
  {
   "cell_type": "code",
   "execution_count": 20,
   "metadata": {},
   "outputs": [
    {
     "data": {
      "image/png": "[encoded data removed]",
      "text/plain": [
       "<Figure size 640x480 with 1 Axes>"
      ]
     },
     "metadata": {},
     "output_type": "display_data"
    }
   ],
   "source": [
    "lengths = [len(seq) for seq in one_hot_repr]\n",
    "import matplotlib.pyplot as plt\n",
    "plt.hist(lengths, bins=20)\n",
    "plt.show()\n"
   ]
  },
  {
   "cell_type": "code",
   "execution_count": 21,
   "metadata": {},
   "outputs": [
    {
     "name": "stdout",
     "output_type": "stream",
     "text": [
      "[[   0    0    0    0 4921 9847 8714  221]\n",
      " [   0    0    0    0 4921 9847 8714  177]\n",
      " [   0    0    0    0 4921 6319 8714 4687]\n",
      " [   0    0    0 5796  854 4095 6723 5592]\n",
      " [   0    0    0 5796  854 4095 6723 7171]\n",
      " [   0    0    0 6832 4921 2168 8714 8290]\n",
      " [   0    0    0    0  706 7028 3560 6723]]\n"
     ]
    }
   ],
   "source": [
    "sent_length=8\n",
    "\n",
    "##padding the encoded datas with pre '0's\n",
    "embedded_docs=pad_sequences(one_hot_repr,padding='pre',maxlen=sent_length)\n",
    "print(embedded_docs)"
   ]
  },
  {
   "cell_type": "code",
   "execution_count": 22,
   "metadata": {},
   "outputs": [],
   "source": [
    "## feature representation\n",
    "\n",
    "###\n",
    "# After you have your padded sequences (which are just sequences of integers), you usually pass them through an embedding layer before feeding into your RNN / LSTM / GRU models.\n",
    "\n",
    "#The embedding layer converts each integer (word index) into a dense vector of fixed size.\n",
    "\n",
    "#✅ So if:\n",
    "\n",
    "#You have dim = 10\n",
    "\n",
    "#Each word will be represented as a dense vector of size 10.\n",
    "###\n",
    "#\n",
    "#-----------------------------------------------------------------------------------------------------------------------------------------------------------------------------------------------------\n",
    "#Why do we need this?\n",
    "#Instead of using sparse or one-hot vectors (which are big and inefficient), embedding layers\n",
    "#------------------------------------------------------------------------------------------------------------------------------------------------------------------------------------------------------\n",
    "\n",
    "#So, what does dim = 10 mean?\n",
    "#It means:\n",
    "\n",
    "#\"I want to represent each word as a dense vector of length 10.\"\n",
    "\n",
    "#How to choose dim?\n",
    "#There’s no fixed rule, but here are some guidelines:\n",
    "\n",
    "#Vocabulary Size\tRecommended dim\n",
    "#Small (~1k words)\t8–32\n",
    "#Medium (~10k words)\t50–100\n",
    "#Large (~100k words)\t200–300 (like pretrained GloVe / Word2Vec models)\n",
    "#For simple tasks, dim = 10 is a reasonable starting point.\n",
    "\n",
    "#If you're just learning or experimenting, it’s fine!\n",
    "\n",
    "\n",
    "\n",
    "\n",
    "\n",
    "dim=10"
   ]
  },
  {
   "cell_type": "markdown",
   "metadata": {},
   "source": [
    "Build the model"
   ]
  },
  {
   "cell_type": "code",
   "execution_count": 23,
   "metadata": {},
   "outputs": [],
   "source": [
    "#This means:\n",
    "\n",
    "#\"I am creating a simple linear stack of layers.\"\n",
    "\n",
    "#In Keras, Sequential means you’ll add layers one after the other, like stacking blocks.\n",
    "model=Sequential()\n",
    "\n",
    "#\"For each word index in the input sequence, map it to a learned dense vector of size dim.\"\n",
    "model.add(Embedding(voc_size,dim,input_length=sent_length))\n",
    "\n",
    "#Optimizer: 'adam'\n",
    "\n",
    "#✅ Adam is a great, fast, and adaptive optimizer.\n",
    "\n",
    "#✅ Combines benefits of AdaGrad and RMSProp.\n",
    "\n",
    "#Loss function: 'mse' = Mean Squared Error\n",
    "\n",
    "#This is usually used for regression tasks.\n",
    "\n",
    "#MSE means:\n",
    "\n",
    "#\"Minimize the square of the difference between predicted and actual values.\"\n",
    "model.compile('adam','mse')"
   ]
  },
  {
   "cell_type": "code",
   "execution_count": 24,
   "metadata": {},
   "outputs": [
    {
     "name": "stdout",
     "output_type": "stream",
     "text": [
      "Model: \"sequential\"\n",
      "_________________________________________________________________\n",
      " Layer (type)                Output Shape              Param #   \n",
      "=================================================================\n",
      " embedding (Embedding)       (None, 8, 10)             100000    \n",
      "                                                                 \n",
      "=================================================================\n",
      "Total params: 100000 (390.62 KB)\n",
      "Trainable params: 100000 (390.62 KB)\n",
      "Non-trainable params: 0 (0.00 Byte)\n",
      "_________________________________________________________________\n"
     ]
    }
   ],
   "source": [
    "model.summary()"
   ]
  },
  {
   "cell_type": "code",
   "execution_count": 25,
   "metadata": {},
   "outputs": [
    {
     "name": "stdout",
     "output_type": "stream",
     "text": [
      "1/1 [==============================] - 0s 101ms/step\n"
     ]
    },
    {
     "data": {
      "text/plain": [
       "array([[[-0.02948225,  0.02136094,  0.00842381,  0.03898021,\n",
       "          0.00667825, -0.04588386, -0.02424262,  0.0223865 ,\n",
       "          0.02750914,  0.0243811 ],\n",
       "        [-0.02948225,  0.02136094,  0.00842381,  0.03898021,\n",
       "          0.00667825, -0.04588386, -0.02424262,  0.0223865 ,\n",
       "          0.02750914,  0.0243811 ],\n",
       "        [-0.02948225,  0.02136094,  0.00842381,  0.03898021,\n",
       "          0.00667825, -0.04588386, -0.02424262,  0.0223865 ,\n",
       "          0.02750914,  0.0243811 ],\n",
       "        [-0.02948225,  0.02136094,  0.00842381,  0.03898021,\n",
       "          0.00667825, -0.04588386, -0.02424262,  0.0223865 ,\n",
       "          0.02750914,  0.0243811 ],\n",
       "        [-0.04000754,  0.03145801,  0.04420182,  0.03174751,\n",
       "          0.03807496,  0.01649772, -0.0351407 ,  0.01854339,\n",
       "          0.00921829, -0.00114031],\n",
       "        [ 0.03789872,  0.03384454,  0.0443774 ,  0.02442373,\n",
       "          0.01402492, -0.04773101, -0.03963507,  0.00561203,\n",
       "         -0.01681807,  0.03859485],\n",
       "        [ 0.00870172, -0.02024603,  0.03540007,  0.04948158,\n",
       "         -0.01164861, -0.01216326,  0.01115874,  0.02479346,\n",
       "         -0.04319727,  0.02044609],\n",
       "        [-0.01846088, -0.02959183, -0.04160333, -0.04667353,\n",
       "         -0.04836405,  0.02636341, -0.00152715,  0.00950642,\n",
       "         -0.01471733, -0.03211679]],\n",
       "\n",
       "       [[-0.02948225,  0.02136094,  0.00842381,  0.03898021,\n",
       "          0.00667825, -0.04588386, -0.02424262,  0.0223865 ,\n",
       "          0.02750914,  0.0243811 ],\n",
       "        [-0.02948225,  0.02136094,  0.00842381,  0.03898021,\n",
       "          0.00667825, -0.04588386, -0.02424262,  0.0223865 ,\n",
       "          0.02750914,  0.0243811 ],\n",
       "        [-0.02948225,  0.02136094,  0.00842381,  0.03898021,\n",
       "          0.00667825, -0.04588386, -0.02424262,  0.0223865 ,\n",
       "          0.02750914,  0.0243811 ],\n",
       "        [-0.02948225,  0.02136094,  0.00842381,  0.03898021,\n",
       "          0.00667825, -0.04588386, -0.02424262,  0.0223865 ,\n",
       "          0.02750914,  0.0243811 ],\n",
       "        [-0.04000754,  0.03145801,  0.04420182,  0.03174751,\n",
       "          0.03807496,  0.01649772, -0.0351407 ,  0.01854339,\n",
       "          0.00921829, -0.00114031],\n",
       "        [ 0.03789872,  0.03384454,  0.0443774 ,  0.02442373,\n",
       "          0.01402492, -0.04773101, -0.03963507,  0.00561203,\n",
       "         -0.01681807,  0.03859485],\n",
       "        [ 0.00870172, -0.02024603,  0.03540007,  0.04948158,\n",
       "         -0.01164861, -0.01216326,  0.01115874,  0.02479346,\n",
       "         -0.04319727,  0.02044609],\n",
       "        [ 0.01630778,  0.03119412,  0.04380525,  0.02742043,\n",
       "          0.00492311, -0.00102122,  0.02539713,  0.02591327,\n",
       "         -0.03650678,  0.04424233]],\n",
       "\n",
       "       [[-0.02948225,  0.02136094,  0.00842381,  0.03898021,\n",
       "          0.00667825, -0.04588386, -0.02424262,  0.0223865 ,\n",
       "          0.02750914,  0.0243811 ],\n",
       "        [-0.02948225,  0.02136094,  0.00842381,  0.03898021,\n",
       "          0.00667825, -0.04588386, -0.02424262,  0.0223865 ,\n",
       "          0.02750914,  0.0243811 ],\n",
       "        [-0.02948225,  0.02136094,  0.00842381,  0.03898021,\n",
       "          0.00667825, -0.04588386, -0.02424262,  0.0223865 ,\n",
       "          0.02750914,  0.0243811 ],\n",
       "        [-0.02948225,  0.02136094,  0.00842381,  0.03898021,\n",
       "          0.00667825, -0.04588386, -0.02424262,  0.0223865 ,\n",
       "          0.02750914,  0.0243811 ],\n",
       "        [-0.04000754,  0.03145801,  0.04420182,  0.03174751,\n",
       "          0.03807496,  0.01649772, -0.0351407 ,  0.01854339,\n",
       "          0.00921829, -0.00114031],\n",
       "        [ 0.03848756,  0.01170921,  0.00116878,  0.03450971,\n",
       "         -0.00861827,  0.03779827, -0.03148832, -0.03543084,\n",
       "          0.04242409,  0.03284112],\n",
       "        [ 0.00870172, -0.02024603,  0.03540007,  0.04948158,\n",
       "         -0.01164861, -0.01216326,  0.01115874,  0.02479346,\n",
       "         -0.04319727,  0.02044609],\n",
       "        [-0.0411049 ,  0.04119177,  0.04909319,  0.01024567,\n",
       "          0.00859819,  0.04909653, -0.0170336 , -0.02731129,\n",
       "         -0.03702408, -0.02470741]],\n",
       "\n",
       "       [[-0.02948225,  0.02136094,  0.00842381,  0.03898021,\n",
       "          0.00667825, -0.04588386, -0.02424262,  0.0223865 ,\n",
       "          0.02750914,  0.0243811 ],\n",
       "        [-0.02948225,  0.02136094,  0.00842381,  0.03898021,\n",
       "          0.00667825, -0.04588386, -0.02424262,  0.0223865 ,\n",
       "          0.02750914,  0.0243811 ],\n",
       "        [-0.02948225,  0.02136094,  0.00842381,  0.03898021,\n",
       "          0.00667825, -0.04588386, -0.02424262,  0.0223865 ,\n",
       "          0.02750914,  0.0243811 ],\n",
       "        [ 0.03189999,  0.04233391, -0.0080337 ,  0.02640902,\n",
       "          0.00464479, -0.01390187, -0.01311313, -0.014093  ,\n",
       "         -0.00135919,  0.01986336],\n",
       "        [ 0.02799708, -0.00750805,  0.00475364,  0.02731558,\n",
       "          0.03733714,  0.04955902,  0.02587819,  0.03994889,\n",
       "         -0.01648895, -0.03580458],\n",
       "        [ 0.03349093, -0.01588301, -0.00763815,  0.03205475,\n",
       "          0.02140805, -0.00221605,  0.04133176,  0.04504189,\n",
       "         -0.01029814, -0.00836893],\n",
       "        [-0.0449279 ,  0.02760876,  0.00347208,  0.00464263,\n",
       "          0.02562829,  0.02869841,  0.0484923 ,  0.0166159 ,\n",
       "         -0.04169201,  0.0164854 ],\n",
       "        [ 0.02240474, -0.00866327, -0.00138073,  0.00227685,\n",
       "          0.01258064, -0.0458938 ,  0.02950739, -0.01656383,\n",
       "          0.0230053 ,  0.01813138]],\n",
       "\n",
       "       [[-0.02948225,  0.02136094,  0.00842381,  0.03898021,\n",
       "          0.00667825, -0.04588386, -0.02424262,  0.0223865 ,\n",
       "          0.02750914,  0.0243811 ],\n",
       "        [-0.02948225,  0.02136094,  0.00842381,  0.03898021,\n",
       "          0.00667825, -0.04588386, -0.02424262,  0.0223865 ,\n",
       "          0.02750914,  0.0243811 ],\n",
       "        [-0.02948225,  0.02136094,  0.00842381,  0.03898021,\n",
       "          0.00667825, -0.04588386, -0.02424262,  0.0223865 ,\n",
       "          0.02750914,  0.0243811 ],\n",
       "        [ 0.03189999,  0.04233391, -0.0080337 ,  0.02640902,\n",
       "          0.00464479, -0.01390187, -0.01311313, -0.014093  ,\n",
       "         -0.00135919,  0.01986336],\n",
       "        [ 0.02799708, -0.00750805,  0.00475364,  0.02731558,\n",
       "          0.03733714,  0.04955902,  0.02587819,  0.03994889,\n",
       "         -0.01648895, -0.03580458],\n",
       "        [ 0.03349093, -0.01588301, -0.00763815,  0.03205475,\n",
       "          0.02140805, -0.00221605,  0.04133176,  0.04504189,\n",
       "         -0.01029814, -0.00836893],\n",
       "        [-0.0449279 ,  0.02760876,  0.00347208,  0.00464263,\n",
       "          0.02562829,  0.02869841,  0.0484923 ,  0.0166159 ,\n",
       "         -0.04169201,  0.0164854 ],\n",
       "        [ 0.04601565,  0.02759809,  0.04769352, -0.00287938,\n",
       "         -0.03251976,  0.04232749,  0.01430518,  0.00058167,\n",
       "          0.04841304,  0.01371037]],\n",
       "\n",
       "       [[-0.02948225,  0.02136094,  0.00842381,  0.03898021,\n",
       "          0.00667825, -0.04588386, -0.02424262,  0.0223865 ,\n",
       "          0.02750914,  0.0243811 ],\n",
       "        [-0.02948225,  0.02136094,  0.00842381,  0.03898021,\n",
       "          0.00667825, -0.04588386, -0.02424262,  0.0223865 ,\n",
       "          0.02750914,  0.0243811 ],\n",
       "        [-0.02948225,  0.02136094,  0.00842381,  0.03898021,\n",
       "          0.00667825, -0.04588386, -0.02424262,  0.0223865 ,\n",
       "          0.02750914,  0.0243811 ],\n",
       "        [ 0.02527202, -0.04570326,  0.0442594 , -0.04295914,\n",
       "         -0.00094222,  0.02192232,  0.00150166, -0.03795446,\n",
       "         -0.0349764 ,  0.00851607],\n",
       "        [-0.04000754,  0.03145801,  0.04420182,  0.03174751,\n",
       "          0.03807496,  0.01649772, -0.0351407 ,  0.01854339,\n",
       "          0.00921829, -0.00114031],\n",
       "        [ 0.03753864, -0.00884353,  0.01482737, -0.00340208,\n",
       "         -0.02367307, -0.04471605, -0.02358624, -0.03883741,\n",
       "         -0.04977019,  0.027494  ],\n",
       "        [ 0.00870172, -0.02024603,  0.03540007,  0.04948158,\n",
       "         -0.01164861, -0.01216326,  0.01115874,  0.02479346,\n",
       "         -0.04319727,  0.02044609],\n",
       "        [-0.03414615, -0.01673063, -0.01936375,  0.00802707,\n",
       "         -0.03187647, -0.01736983, -0.04673417, -0.04837833,\n",
       "          0.00599655, -0.03687806]],\n",
       "\n",
       "       [[-0.02948225,  0.02136094,  0.00842381,  0.03898021,\n",
       "          0.00667825, -0.04588386, -0.02424262,  0.0223865 ,\n",
       "          0.02750914,  0.0243811 ],\n",
       "        [-0.02948225,  0.02136094,  0.00842381,  0.03898021,\n",
       "          0.00667825, -0.04588386, -0.02424262,  0.0223865 ,\n",
       "          0.02750914,  0.0243811 ],\n",
       "        [-0.02948225,  0.02136094,  0.00842381,  0.03898021,\n",
       "          0.00667825, -0.04588386, -0.02424262,  0.0223865 ,\n",
       "          0.02750914,  0.0243811 ],\n",
       "        [-0.02948225,  0.02136094,  0.00842381,  0.03898021,\n",
       "          0.00667825, -0.04588386, -0.02424262,  0.0223865 ,\n",
       "          0.02750914,  0.0243811 ],\n",
       "        [ 0.01491978,  0.0145199 , -0.04220698,  0.03346059,\n",
       "          0.0287655 , -0.04383185, -0.04351549, -0.0198619 ,\n",
       "         -0.00933565, -0.03831463],\n",
       "        [ 0.01757986,  0.04035621,  0.04287989, -0.02976785,\n",
       "          0.03319189,  0.02337987,  0.01479039,  0.03301584,\n",
       "         -0.04032658, -0.04271429],\n",
       "        [-0.00986378,  0.03925791,  0.03757739, -0.03340783,\n",
       "         -0.00332534,  0.00847145,  0.0089774 ,  0.00252155,\n",
       "          0.00626796, -0.03268798],\n",
       "        [-0.0449279 ,  0.02760876,  0.00347208,  0.00464263,\n",
       "          0.02562829,  0.02869841,  0.0484923 ,  0.0166159 ,\n",
       "         -0.04169201,  0.0164854 ]]], dtype=float32)"
      ]
     },
     "execution_count": 25,
     "metadata": {},
     "output_type": "execute_result"
    }
   ],
   "source": [
    "model.predict(embedded_docs)"
   ]
  },
  {
   "cell_type": "code",
   "execution_count": 26,
   "metadata": {},
   "outputs": [
    {
     "data": {
      "text/plain": [
       "array([   0,    0,    0,    0, 4921, 9847, 8714,  221], dtype=int32)"
      ]
     },
     "execution_count": 26,
     "metadata": {},
     "output_type": "execute_result"
    }
   ],
   "source": [
    "embedded_docs[0]"
   ]
  },
  {
   "cell_type": "code",
   "execution_count": 27,
   "metadata": {},
   "outputs": [
    {
     "name": "stdout",
     "output_type": "stream",
     "text": [
      "1/1 [==============================] - 0s 105ms/step\n"
     ]
    },
    {
     "data": {
      "text/plain": [
       "array([[-0.02948225,  0.02136094,  0.00842381,  0.03898021,  0.00667825,\n",
       "        -0.04588386, -0.02424262,  0.0223865 ,  0.02750914,  0.0243811 ],\n",
       "       [-0.02948225,  0.02136094,  0.00842381,  0.03898021,  0.00667825,\n",
       "        -0.04588386, -0.02424262,  0.0223865 ,  0.02750914,  0.0243811 ],\n",
       "       [-0.02948225,  0.02136094,  0.00842381,  0.03898021,  0.00667825,\n",
       "        -0.04588386, -0.02424262,  0.0223865 ,  0.02750914,  0.0243811 ],\n",
       "       [-0.02948225,  0.02136094,  0.00842381,  0.03898021,  0.00667825,\n",
       "        -0.04588386, -0.02424262,  0.0223865 ,  0.02750914,  0.0243811 ],\n",
       "       [-0.04000754,  0.03145801,  0.04420182,  0.03174751,  0.03807496,\n",
       "         0.01649772, -0.0351407 ,  0.01854339,  0.00921829, -0.00114031],\n",
       "       [ 0.03789872,  0.03384454,  0.0443774 ,  0.02442373,  0.01402492,\n",
       "        -0.04773101, -0.03963507,  0.00561203, -0.01681807,  0.03859485],\n",
       "       [ 0.00870172, -0.02024603,  0.03540007,  0.04948158, -0.01164861,\n",
       "        -0.01216326,  0.01115874,  0.02479346, -0.04319727,  0.02044609],\n",
       "       [-0.01846088, -0.02959183, -0.04160333, -0.04667353, -0.04836405,\n",
       "         0.02636341, -0.00152715,  0.00950642, -0.01471733, -0.03211679]],\n",
       "      dtype=float32)"
      ]
     },
     "execution_count": 27,
     "metadata": {},
     "output_type": "execute_result"
    }
   ],
   "source": [
    "model.predict(embedded_docs[0])"
   ]
  },
  {
   "cell_type": "code",
   "execution_count": null,
   "metadata": {},
   "outputs": [],
   "source": []
  }
 ],
 "metadata": {
  "kernelspec": {
   "display_name": "Python 3",
   "language": "python",
   "name": "python3"
  },
  "language_info": {
   "codemirror_mode": {
    "name": "ipython",
    "version": 3
   },
   "file_extension": ".py",
   "mimetype": "text/x-python",
   "name": "python",
   "nbconvert_exporter": "python",
   "pygments_lexer": "ipython3",
   "version": "3.11.11"
  }
 },
 "nbformat": 4,
 "nbformat_minor": 2
}
