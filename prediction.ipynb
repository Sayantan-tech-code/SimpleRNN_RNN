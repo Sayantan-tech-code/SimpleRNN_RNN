{
 "cells": [
  {
   "cell_type": "code",
   "execution_count": 1,
   "metadata": {},
   "outputs": [
    {
     "name": "stderr",
     "output_type": "stream",
     "text": [
      "2025-04-15 19:38:15.161146: I tensorflow/core/util/port.cc:113] oneDNN custom operations are on. You may see slightly different numerical results due to floating-point round-off errors from different computation orders. To turn them off, set the environment variable `TF_ENABLE_ONEDNN_OPTS=0`.\n",
      "2025-04-15 19:38:15.161995: I external/local_tsl/tsl/cuda/cudart_stub.cc:32] Could not find cuda drivers on your machine, GPU will not be used.\n",
      "2025-04-15 19:38:15.165310: I external/local_tsl/tsl/cuda/cudart_stub.cc:32] Could not find cuda drivers on your machine, GPU will not be used.\n",
      "2025-04-15 19:38:15.173066: E external/local_xla/xla/stream_executor/cuda/cuda_fft.cc:479] Unable to register cuFFT factory: Attempting to register factory for plugin cuFFT when one has already been registered\n",
      "2025-04-15 19:38:15.188606: E external/local_xla/xla/stream_executor/cuda/cuda_dnn.cc:10575] Unable to register cuDNN factory: Attempting to register factory for plugin cuDNN when one has already been registered\n",
      "2025-04-15 19:38:15.188646: E external/local_xla/xla/stream_executor/cuda/cuda_blas.cc:1442] Unable to register cuBLAS factory: Attempting to register factory for plugin cuBLAS when one has already been registered\n",
      "2025-04-15 19:38:15.198036: I tensorflow/core/platform/cpu_feature_guard.cc:210] This TensorFlow binary is optimized to use available CPU instructions in performance-critical operations.\n",
      "To enable the following instructions: AVX2 AVX_VNNI FMA, in other operations, rebuild TensorFlow with the appropriate compiler flags.\n",
      "2025-04-15 19:38:29.517746: W tensorflow/compiler/tf2tensorrt/utils/py_utils.cc:38] TF-TRT Warning: Could not find TensorRT\n"
     ]
    }
   ],
   "source": [
    "# Step 1: Import Libraries and Load the Model\n",
    "import numpy as np\n",
    "import tensorflow as tf\n",
    "from tensorflow.keras.datasets import imdb\n",
    "from tensorflow.keras.preprocessing import sequence\n",
    "from tensorflow.keras.models import load_model"
   ]
  },
  {
   "cell_type": "code",
   "execution_count": 2,
   "metadata": {},
   "outputs": [],
   "source": [
    "\n",
    "# Load the IMDB dataset word index\n",
    "word_index = imdb.get_word_index()\n",
    "reverse_word_index = {value: key for key, value in word_index.items()}"
   ]
  },
  {
   "cell_type": "code",
   "execution_count": 3,
   "metadata": {},
   "outputs": [
    {
     "name": "stderr",
     "output_type": "stream",
     "text": [
      "WARNING:absl:Compiled the loaded model, but the compiled metrics have yet to be built. `model.compile_metrics` will be empty until you train or evaluate the model.\n"
     ]
    },
    {
     "data": {
      "text/html": [
       "<pre style=\"white-space:pre;overflow-x:auto;line-height:normal;font-family:Menlo,'DejaVu Sans Mono',consolas,'Courier New',monospace\"><span style=\"font-weight: bold\">Model: \"sequential_2\"</span>\n",
       "</pre>\n"
      ],
      "text/plain": [
       "\u001b[1mModel: \"sequential_2\"\u001b[0m\n"
      ]
     },
     "metadata": {},
     "output_type": "display_data"
    },
    {
     "data": {
      "text/html": [
       "<pre style=\"white-space:pre;overflow-x:auto;line-height:normal;font-family:Menlo,'DejaVu Sans Mono',consolas,'Courier New',monospace\">┏━━━━━━━━━━━━━━━━━━━━━━━━━━━━━━━━━┳━━━━━━━━━━━━━━━━━━━━━━━━┳━━━━━━━━━━━━━━━┓\n",
       "┃<span style=\"font-weight: bold\"> Layer (type)                    </span>┃<span style=\"font-weight: bold\"> Output Shape           </span>┃<span style=\"font-weight: bold\">       Param # </span>┃\n",
       "┡━━━━━━━━━━━━━━━━━━━━━━━━━━━━━━━━━╇━━━━━━━━━━━━━━━━━━━━━━━━╇━━━━━━━━━━━━━━━┩\n",
       "│ embedding_2 (<span style=\"color: #0087ff; text-decoration-color: #0087ff\">Embedding</span>)         │ (<span style=\"color: #00af00; text-decoration-color: #00af00\">32</span>, <span style=\"color: #00af00; text-decoration-color: #00af00\">500</span>, <span style=\"color: #00af00; text-decoration-color: #00af00\">128</span>)         │     <span style=\"color: #00af00; text-decoration-color: #00af00\">1,280,000</span> │\n",
       "├─────────────────────────────────┼────────────────────────┼───────────────┤\n",
       "│ simple_rnn_2 (<span style=\"color: #0087ff; text-decoration-color: #0087ff\">SimpleRNN</span>)        │ (<span style=\"color: #00af00; text-decoration-color: #00af00\">32</span>, <span style=\"color: #00af00; text-decoration-color: #00af00\">128</span>)              │        <span style=\"color: #00af00; text-decoration-color: #00af00\">32,896</span> │\n",
       "├─────────────────────────────────┼────────────────────────┼───────────────┤\n",
       "│ dense_2 (<span style=\"color: #0087ff; text-decoration-color: #0087ff\">Dense</span>)                 │ (<span style=\"color: #00af00; text-decoration-color: #00af00\">32</span>, <span style=\"color: #00af00; text-decoration-color: #00af00\">1</span>)                │           <span style=\"color: #00af00; text-decoration-color: #00af00\">129</span> │\n",
       "└─────────────────────────────────┴────────────────────────┴───────────────┘\n",
       "</pre>\n"
      ],
      "text/plain": [
       "┏━━━━━━━━━━━━━━━━━━━━━━━━━━━━━━━━━┳━━━━━━━━━━━━━━━━━━━━━━━━┳━━━━━━━━━━━━━━━┓\n",
       "┃\u001b[1m \u001b[0m\u001b[1mLayer (type)                   \u001b[0m\u001b[1m \u001b[0m┃\u001b[1m \u001b[0m\u001b[1mOutput Shape          \u001b[0m\u001b[1m \u001b[0m┃\u001b[1m \u001b[0m\u001b[1m      Param #\u001b[0m\u001b[1m \u001b[0m┃\n",
       "┡━━━━━━━━━━━━━━━━━━━━━━━━━━━━━━━━━╇━━━━━━━━━━━━━━━━━━━━━━━━╇━━━━━━━━━━━━━━━┩\n",
       "│ embedding_2 (\u001b[38;5;33mEmbedding\u001b[0m)         │ (\u001b[38;5;34m32\u001b[0m, \u001b[38;5;34m500\u001b[0m, \u001b[38;5;34m128\u001b[0m)         │     \u001b[38;5;34m1,280,000\u001b[0m │\n",
       "├─────────────────────────────────┼────────────────────────┼───────────────┤\n",
       "│ simple_rnn_2 (\u001b[38;5;33mSimpleRNN\u001b[0m)        │ (\u001b[38;5;34m32\u001b[0m, \u001b[38;5;34m128\u001b[0m)              │        \u001b[38;5;34m32,896\u001b[0m │\n",
       "├─────────────────────────────────┼────────────────────────┼───────────────┤\n",
       "│ dense_2 (\u001b[38;5;33mDense\u001b[0m)                 │ (\u001b[38;5;34m32\u001b[0m, \u001b[38;5;34m1\u001b[0m)                │           \u001b[38;5;34m129\u001b[0m │\n",
       "└─────────────────────────────────┴────────────────────────┴───────────────┘\n"
      ]
     },
     "metadata": {},
     "output_type": "display_data"
    },
    {
     "data": {
      "text/html": [
       "<pre style=\"white-space:pre;overflow-x:auto;line-height:normal;font-family:Menlo,'DejaVu Sans Mono',consolas,'Courier New',monospace\"><span style=\"font-weight: bold\"> Total params: </span><span style=\"color: #00af00; text-decoration-color: #00af00\">1,313,027</span> (5.01 MB)\n",
       "</pre>\n"
      ],
      "text/plain": [
       "\u001b[1m Total params: \u001b[0m\u001b[38;5;34m1,313,027\u001b[0m (5.01 MB)\n"
      ]
     },
     "metadata": {},
     "output_type": "display_data"
    },
    {
     "data": {
      "text/html": [
       "<pre style=\"white-space:pre;overflow-x:auto;line-height:normal;font-family:Menlo,'DejaVu Sans Mono',consolas,'Courier New',monospace\"><span style=\"font-weight: bold\"> Trainable params: </span><span style=\"color: #00af00; text-decoration-color: #00af00\">1,313,025</span> (5.01 MB)\n",
       "</pre>\n"
      ],
      "text/plain": [
       "\u001b[1m Trainable params: \u001b[0m\u001b[38;5;34m1,313,025\u001b[0m (5.01 MB)\n"
      ]
     },
     "metadata": {},
     "output_type": "display_data"
    },
    {
     "data": {
      "text/html": [
       "<pre style=\"white-space:pre;overflow-x:auto;line-height:normal;font-family:Menlo,'DejaVu Sans Mono',consolas,'Courier New',monospace\"><span style=\"font-weight: bold\"> Non-trainable params: </span><span style=\"color: #00af00; text-decoration-color: #00af00\">0</span> (0.00 B)\n",
       "</pre>\n"
      ],
      "text/plain": [
       "\u001b[1m Non-trainable params: \u001b[0m\u001b[38;5;34m0\u001b[0m (0.00 B)\n"
      ]
     },
     "metadata": {},
     "output_type": "display_data"
    },
    {
     "data": {
      "text/html": [
       "<pre style=\"white-space:pre;overflow-x:auto;line-height:normal;font-family:Menlo,'DejaVu Sans Mono',consolas,'Courier New',monospace\"><span style=\"font-weight: bold\"> Optimizer params: </span><span style=\"color: #00af00; text-decoration-color: #00af00\">2</span> (12.00 B)\n",
       "</pre>\n"
      ],
      "text/plain": [
       "\u001b[1m Optimizer params: \u001b[0m\u001b[38;5;34m2\u001b[0m (12.00 B)\n"
      ]
     },
     "metadata": {},
     "output_type": "display_data"
    }
   ],
   "source": [
    "# Load the pre-trained model with ReLU activation\n",
    "model = load_model('simple_rnn_imdb.h5')\n",
    "model.summary()"
   ]
  },
  {
   "cell_type": "code",
   "execution_count": 4,
   "metadata": {},
   "outputs": [
    {
     "data": {
      "text/plain": [
       "[array([[ 1.5024228e-03,  2.5260368e-02, -2.6603080e-02, ...,\n",
       "         -1.0215807e-02,  8.1480462e-03, -4.8987914e-02],\n",
       "        [ 1.4427090e-02, -8.3803687e-05,  6.5948693e-03, ...,\n",
       "          1.1196666e-02, -2.0340223e-02, -5.6525774e-02],\n",
       "        [ 5.9529260e-02,  7.6480679e-02,  3.4913268e-02, ...,\n",
       "          2.2568321e-02,  2.9416138e-02,  5.6720201e-02],\n",
       "        ...,\n",
       "        [-7.9326943e-02, -5.1991869e-02,  4.5792874e-02, ...,\n",
       "         -2.0453852e-02,  2.2810886e-02,  1.7712349e-02],\n",
       "        [ 6.6819508e-04, -6.8679377e-03, -3.8095482e-02, ...,\n",
       "          3.7731469e-02,  3.0752717e-02, -2.9063795e-02],\n",
       "        [-6.0768384e-02, -9.5799090e-03,  2.3005376e-02, ...,\n",
       "          5.1136516e-02, -9.5610015e-02,  4.0149171e-02]], dtype=float32),\n",
       " array([[ 0.18056491, -0.03617371, -0.06325124, ...,  0.03957566,\n",
       "         -0.08670758, -0.14506213],\n",
       "        [ 0.005446  , -0.12953772, -0.00042415, ...,  0.07935873,\n",
       "         -0.12150659,  0.02065097],\n",
       "        [ 0.08124612,  0.18469054,  0.04142294, ...,  0.1713129 ,\n",
       "         -0.05594335, -0.07593831],\n",
       "        ...,\n",
       "        [ 0.12605458, -0.09754632,  0.18541636, ..., -0.03826038,\n",
       "          0.10323174,  0.09591228],\n",
       "        [ 0.09911563, -0.00392274, -0.37698504, ...,  0.009083  ,\n",
       "          0.06510118,  0.0329477 ],\n",
       "        [ 0.01586629,  0.10137111, -0.00785302, ...,  0.09016448,\n",
       "         -0.08738468, -0.07081398]], dtype=float32),\n",
       " array([[ 0.01551439, -0.05970436, -0.12311399, ...,  0.07141123,\n",
       "         -0.09629463,  0.05053902],\n",
       "        [ 0.00431287,  0.02442441, -0.20668069, ..., -0.03954071,\n",
       "          0.04305651, -0.05882261],\n",
       "        [ 0.00640733, -0.05732311, -0.11447231, ..., -0.1346674 ,\n",
       "         -0.2297831 ,  0.15218389],\n",
       "        ...,\n",
       "        [-0.0455112 ,  0.0179391 , -0.12062337, ...,  0.06977035,\n",
       "          0.22643702, -0.1731792 ],\n",
       "        [-0.04163794, -0.04572574,  0.08253882, ...,  0.03762111,\n",
       "          0.00972453, -0.0404964 ],\n",
       "        [ 0.11014115, -0.18899015, -0.0393361 , ...,  0.11833428,\n",
       "          0.04056723, -0.08741046]], dtype=float32),\n",
       " array([ 0.00892366, -0.01037618,  0.01093929,  0.01065289,  0.00880515,\n",
       "         0.00469772,  0.00681425, -0.00816001,  0.00652041,  0.01397633,\n",
       "        -0.00049446, -0.00693044, -0.00954874, -0.01063339,  0.00299152,\n",
       "        -0.01641895,  0.01938943,  0.00834552,  0.00332374, -0.00941967,\n",
       "         0.01263494, -0.01921484,  0.02194504,  0.00367846,  0.01860511,\n",
       "        -0.02043779,  0.0087424 , -0.0059272 ,  0.00047148, -0.00792381,\n",
       "        -0.0053654 ,  0.00932958, -0.01872095, -0.0118017 , -0.00401826,\n",
       "        -0.01768893, -0.00140934,  0.0040623 , -0.01187645,  0.01152064,\n",
       "         0.00474114,  0.00374702,  0.00134992, -0.01261168, -0.00959881,\n",
       "         0.00448099, -0.00314676, -0.01173051,  0.00943201,  0.00578111,\n",
       "         0.00442892,  0.01161478, -0.00697601, -0.01563919,  0.0221309 ,\n",
       "        -0.03634596,  0.02365896, -0.01319822,  0.00829145, -0.01805628,\n",
       "        -0.00549357, -0.01754852, -0.0139193 , -0.02123574,  0.02841758,\n",
       "        -0.02145257,  0.01342361, -0.01903908,  0.00109189, -0.00922264,\n",
       "         0.01182205,  0.00787222, -0.00090187,  0.00498071, -0.00070931,\n",
       "         0.01770555,  0.01039703, -0.00061318,  0.02381309,  0.02105362,\n",
       "        -0.00163396, -0.00659394,  0.01635089, -0.01197913,  0.01496236,\n",
       "        -0.01050446,  0.00361211, -0.01474331, -0.00061538,  0.00524569,\n",
       "         0.00860655, -0.02094118,  0.01269482, -0.01302564,  0.01645633,\n",
       "        -0.01512341,  0.00495321, -0.00705744,  0.01126919,  0.00929204,\n",
       "         0.01311929, -0.0115408 ,  0.00789448,  0.00584594,  0.00918813,\n",
       "        -0.00847434, -0.00517189, -0.01443968,  0.00254579,  0.0020053 ,\n",
       "         0.00221104,  0.0132955 ,  0.00340121, -0.00900468,  0.01734576,\n",
       "         0.00582578,  0.01007734,  0.00673591, -0.00113042, -0.01319694,\n",
       "         0.00695476, -0.00393085, -0.00226207,  0.01342912,  0.02070518,\n",
       "        -0.01289174, -0.01804241, -0.00444792], dtype=float32),\n",
       " array([[-0.16457658],\n",
       "        [-0.04254067],\n",
       "        [-0.01008537],\n",
       "        [ 0.07493205],\n",
       "        [ 0.06085294],\n",
       "        [-0.03850293],\n",
       "        [-0.10501304],\n",
       "        [-0.07747604],\n",
       "        [-0.05056537],\n",
       "        [ 0.04951125],\n",
       "        [-0.03114255],\n",
       "        [-0.13373046],\n",
       "        [ 0.20746471],\n",
       "        [-0.05323358],\n",
       "        [-0.2077582 ],\n",
       "        [-0.18768129],\n",
       "        [-0.06603818],\n",
       "        [-0.19584481],\n",
       "        [-0.07511623],\n",
       "        [ 0.08767249],\n",
       "        [-0.1767831 ],\n",
       "        [-0.08270206],\n",
       "        [ 0.11700273],\n",
       "        [-0.0419841 ],\n",
       "        [-0.05272966],\n",
       "        [ 0.16317904],\n",
       "        [-0.03968227],\n",
       "        [ 0.01210366],\n",
       "        [-0.00599903],\n",
       "        [-0.2086904 ],\n",
       "        [-0.08095369],\n",
       "        [ 0.13259512],\n",
       "        [-0.11643679],\n",
       "        [ 0.05452381],\n",
       "        [ 0.12567085],\n",
       "        [ 0.08582778],\n",
       "        [-0.08564445],\n",
       "        [ 0.07564131],\n",
       "        [ 0.08519261],\n",
       "        [ 0.12551375],\n",
       "        [-0.17558835],\n",
       "        [ 0.06442145],\n",
       "        [ 0.05291463],\n",
       "        [-0.00512551],\n",
       "        [-0.23195048],\n",
       "        [-0.001073  ],\n",
       "        [ 0.06813025],\n",
       "        [-0.03302739],\n",
       "        [ 0.10429994],\n",
       "        [-0.03764789],\n",
       "        [-0.02680112],\n",
       "        [-0.191861  ],\n",
       "        [-0.08451024],\n",
       "        [-0.10875308],\n",
       "        [-0.10880835],\n",
       "        [ 0.13598068],\n",
       "        [-0.19614017],\n",
       "        [ 0.04941539],\n",
       "        [ 0.06616949],\n",
       "        [ 0.09387933],\n",
       "        [ 0.01293509],\n",
       "        [-0.16495694],\n",
       "        [-0.07829747],\n",
       "        [ 0.1985882 ],\n",
       "        [-0.12446691],\n",
       "        [ 0.15715171],\n",
       "        [-0.13199216],\n",
       "        [ 0.14361836],\n",
       "        [-0.14477359],\n",
       "        [-0.09092157],\n",
       "        [-0.13062234],\n",
       "        [-0.04329544],\n",
       "        [ 0.18974327],\n",
       "        [-0.08151051],\n",
       "        [ 0.11806239],\n",
       "        [ 0.00640507],\n",
       "        [ 0.17103957],\n",
       "        [ 0.07140557],\n",
       "        [ 0.16394791],\n",
       "        [-0.13503703],\n",
       "        [ 0.1443185 ],\n",
       "        [ 0.05864564],\n",
       "        [-0.08627552],\n",
       "        [ 0.18369207],\n",
       "        [ 0.20774408],\n",
       "        [ 0.07362919],\n",
       "        [-0.1621564 ],\n",
       "        [-0.15980487],\n",
       "        [ 0.00690714],\n",
       "        [-0.01795875],\n",
       "        [ 0.12622626],\n",
       "        [ 0.10418539],\n",
       "        [ 0.17533185],\n",
       "        [-0.11820073],\n",
       "        [-0.18052168],\n",
       "        [ 0.10514398],\n",
       "        [-0.12403072],\n",
       "        [ 0.08926336],\n",
       "        [-0.01563438],\n",
       "        [-0.20013356],\n",
       "        [ 0.18610643],\n",
       "        [-0.080079  ],\n",
       "        [ 0.04753514],\n",
       "        [-0.06918269],\n",
       "        [-0.0036409 ],\n",
       "        [-0.186909  ],\n",
       "        [ 0.03108092],\n",
       "        [-0.06180577],\n",
       "        [ 0.17715555],\n",
       "        [ 0.18710971],\n",
       "        [-0.11929107],\n",
       "        [ 0.18107317],\n",
       "        [-0.17567901],\n",
       "        [-0.08737235],\n",
       "        [-0.14951533],\n",
       "        [-0.07822311],\n",
       "        [ 0.05245314],\n",
       "        [-0.17121826],\n",
       "        [ 0.20378737],\n",
       "        [-0.01266052],\n",
       "        [-0.21069203],\n",
       "        [-0.20968229],\n",
       "        [-0.27620348],\n",
       "        [ 0.13049836],\n",
       "        [ 0.14142628],\n",
       "        [ 0.16195123],\n",
       "        [-0.06289419],\n",
       "        [ 0.03198546]], dtype=float32),\n",
       " array([-0.03306043], dtype=float32)]"
      ]
     },
     "execution_count": 4,
     "metadata": {},
     "output_type": "execute_result"
    }
   ],
   "source": [
    "model.get_weights()"
   ]
  },
  {
   "cell_type": "code",
   "execution_count": 5,
   "metadata": {},
   "outputs": [],
   "source": [
    "# Step 2: Helper Functions\n",
    "# Function to decode reviews\n",
    "''''\n",
    "Input\n",
    "\n",
    "Function takes encoded_review → a list of integers (word indices).\n",
    "\n",
    "Index Adjustment\n",
    "\n",
    "Subtract 3 from each index because:\n",
    "\n",
    "0 = padding\n",
    "\n",
    "1 = start token\n",
    "\n",
    "2 = unknown token\n",
    "\n",
    "Real word indices start from 3.\n",
    "\n",
    "Lookup in Word Index\n",
    "\n",
    "Use reverse_word_index.get(i - 3, '?') to get the word:\n",
    "\n",
    "If the index exists → get the word.\n",
    "\n",
    "If not → put '?' (unknown word placeholder).\n",
    "\n",
    "Join Words into Sentence\n",
    "\n",
    "Use ' '.join([...]) to combine the words into a sentence.\n",
    "\n",
    "Final output: readable sentence from numbers.\n",
    "'''\n",
    "def decode_review(encoded_review):\n",
    "    return ' '.join([reverse_word_index.get(i - 3, '?') for i in encoded_review])\n",
    "\n",
    "# Function to preprocess user input\n",
    "def preprocess_text(text):\n",
    "    words = text.lower().split()\n",
    "    encoded_review = [word_index.get(word, 2) + 3 for word in words]\n",
    "    padded_review = sequence.pad_sequences([encoded_review], maxlen=500)\n",
    "    return padded_review"
   ]
  },
  {
   "cell_type": "code",
   "execution_count": 6,
   "metadata": {},
   "outputs": [],
   "source": [
    "### Prediction  function\n",
    "\n",
    "def predict_sentiment(review):\n",
    "    preprocessed_input=preprocess_text(review)\n",
    "\n",
    "    prediction=model.predict(preprocessed_input)\n",
    "\n",
    "    sentiment = 'Positive' if prediction[0][0] > 0.5 else 'Negative'\n",
    "    \n",
    "    return sentiment, prediction[0][0]\n",
    "\n"
   ]
  },
  {
   "cell_type": "code",
   "execution_count": 7,
   "metadata": {},
   "outputs": [
    {
     "name": "stdout",
     "output_type": "stream",
     "text": [
      "\u001b[1m1/1\u001b[0m \u001b[32m━━━━━━━━━━━━━━━━━━━━\u001b[0m\u001b[37m\u001b[0m \u001b[1m0s\u001b[0m 231ms/step\n",
      "Review: This movie was fantastic! The acting was great and the plot was thrilling.\n",
      "Sentiment: Positive\n",
      "Prediction Score: 0.5865349769592285\n"
     ]
    }
   ],
   "source": [
    "# Step 4: User Input and Prediction\n",
    "# Example review for prediction\n",
    "example_review = \"This movie was fantastic! The acting was great and the plot was thrilling.\"\n",
    "#example_review = \"This movie was not fantastic! The acticg was not so great.\"\n",
    "\n",
    "sentiment,score=predict_sentiment(example_review)\n",
    "\n",
    "print(f'Review: {example_review}')\n",
    "print(f'Sentiment: {sentiment}')\n",
    "print(f'Prediction Score: {score}')"
   ]
  },
  {
   "cell_type": "code",
   "execution_count": null,
   "metadata": {},
   "outputs": [],
   "source": []
  },
  {
   "cell_type": "code",
   "execution_count": null,
   "metadata": {},
   "outputs": [],
   "source": []
  },
  {
   "cell_type": "code",
   "execution_count": null,
   "metadata": {},
   "outputs": [],
   "source": []
  },
  {
   "cell_type": "code",
   "execution_count": null,
   "metadata": {},
   "outputs": [],
   "source": []
  }
 ],
 "metadata": {
  "kernelspec": {
   "display_name": "Python 3",
   "language": "python",
   "name": "python3"
  },
  "language_info": {
   "codemirror_mode": {
    "name": "ipython",
    "version": 3
   },
   "file_extension": ".py",
   "mimetype": "text/x-python",
   "name": "python",
   "nbconvert_exporter": "python",
   "pygments_lexer": "ipython3",
   "version": "3.11.11"
  }
 },
 "nbformat": 4,
 "nbformat_minor": 2
}
